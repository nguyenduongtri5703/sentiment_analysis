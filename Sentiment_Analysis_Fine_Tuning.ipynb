{
  "nbformat": 4,
  "nbformat_minor": 0,
  "metadata": {
    "colab": {
      "provenance": [],
      "authorship_tag": "ABX9TyPwiUcwI2MKHRL9+7nIeyNa",
      "include_colab_link": true
    },
    "kernelspec": {
      "name": "python3",
      "display_name": "Python 3"
    },
    "language_info": {
      "name": "python"
    }
  },
  "cells": [
    {
      "cell_type": "markdown",
      "metadata": {
        "id": "view-in-github",
        "colab_type": "text"
      },
      "source": [
        "<a href=\"https://colab.research.google.com/github/nguyenduongtri5703/sentiment_analysis/blob/main/Sentiment_Analysis_Fine_Tuning.ipynb\" target=\"_parent\"><img src=\"https://colab.research.google.com/assets/colab-badge.svg\" alt=\"Open In Colab\"/></a>"
      ]
    },
    {
      "cell_type": "code",
      "execution_count": null,
      "metadata": {
        "colab": {
          "base_uri": "https://localhost:8080/"
        },
        "id": "vglIrNq1iev6",
        "outputId": "68c4deff-6416-46f5-9b4a-83ecf79c92e4"
      },
      "outputs": [
        {
          "output_type": "stream",
          "name": "stdout",
          "text": [
            "Mounted at /content/gdrive\n",
            "/content/gdrive/MyDrive/model_history\n"
          ]
        }
      ],
      "source": [
        "from google.colab import drive\n",
        "drive.mount('/content/gdrive')\n",
        "%cd '/content/gdrive/MyDrive/model_history'"
      ]
    },
    {
      "cell_type": "code",
      "source": [
        "!wget -q -nc https://bin.equinox.io/c/bNyj1mQVY4c/ngrok-stable-linux-amd64.zip\n",
        "!unzip -o ngrok-stable-linux-amd64.zip\n",
        "!./ngrok authtoken 2Toy2x79wVRXDSoX0w4a4aDNL7N_4Jz2Z3As1hveLnwNp25Kb"
      ],
      "metadata": {
        "colab": {
          "base_uri": "https://localhost:8080/"
        },
        "id": "rqBH5q3CjFSG",
        "outputId": "ec0e87e3-cdcf-43d7-8f2f-131a2f7d1f41"
      },
      "execution_count": null,
      "outputs": [
        {
          "output_type": "stream",
          "name": "stdout",
          "text": [
            "Archive:  ngrok-stable-linux-amd64.zip\n",
            "  inflating: ngrok                   \n",
            "Authtoken saved to configuration file: /root/.config/ngrok/ngrok.yml\n"
          ]
        }
      ]
    },
    {
      "cell_type": "code",
      "source": [
        "from flask import Flask, request, jsonify\n",
        "from transformers import AutoTokenizer, AutoModelForSequenceClassification\n",
        "import torch\n",
        "import torch.nn.functional as F\n",
        "import threading\n",
        "\n",
        "app = Flask(__name__)\n",
        "\n",
        "model_path = \"/content/gdrive/MyDrive/model_history\"\n",
        "tokenizer = AutoTokenizer.from_pretrained(model_path)\n",
        "model = AutoModelForSequenceClassification.from_pretrained(model_path)\n",
        "\n",
        "label_map = {\n",
        "    0: \"tiêu cực\",\n",
        "    1: \"trung lập\",\n",
        "    2: \"tích cực\"\n",
        "}\n",
        "\n",
        "@app.route('/analyze', methods=['POST'])\n",
        "def analyze():\n",
        "    data = request.get_json()\n",
        "    text = data.get(\"text\", \"\")\n",
        "\n",
        "    inputs = tokenizer(text, return_tensors=\"pt\", truncation=True, padding=True)\n",
        "    with torch.no_grad():\n",
        "        outputs = model(**inputs)\n",
        "        probs = F.softmax(outputs.logits, dim=1)\n",
        "        predicted = torch.argmax(probs, dim=1).item()\n",
        "        confidence = probs[0][predicted].item()\n",
        "\n",
        "    return jsonify({\n",
        "        \"sentiment\": label_map[predicted],\n",
        "        \"confidence\": round(confidence, 4)\n",
        "    })\n",
        "\n",
        "def run_app():\n",
        "    app.run(host=\"0.0.0.0\", port=5000)\n",
        "\n",
        "thread = threading.Thread(target=run_app)\n",
        "thread.start()\n"
      ],
      "metadata": {
        "colab": {
          "base_uri": "https://localhost:8080/"
        },
        "id": "I2HYe1zTjHkY",
        "outputId": "7a282d72-f589-4f56-ac79-87de1309af66"
      },
      "execution_count": null,
      "outputs": [
        {
          "output_type": "stream",
          "name": "stdout",
          "text": [
            " * Serving Flask app '__main__'\n",
            " * Debug mode: off\n"
          ]
        }
      ]
    },
    {
      "cell_type": "code",
      "source": [
        "import time\n",
        "import requests\n",
        "\n",
        "# Chạy ngrok dưới nền\n",
        "get_ipython().system_raw('./ngrok http 5000 &')\n",
        "\n",
        "# Đợi ngrok khởi động\n",
        "time.sleep(3)\n",
        "\n",
        "# Lấy public URL\n",
        "r = requests.get(\"http://localhost:4040/api/tunnels\")\n",
        "public_url = r.json()['tunnels'][0]['public_url']\n",
        "print(\"📡 Public URL:\", public_url)"
      ],
      "metadata": {
        "colab": {
          "base_uri": "https://localhost:8080/"
        },
        "id": "Jp_hperlj6LD",
        "outputId": "e4eed24c-7a29-4950-c8e0-d1b04fb140c2"
      },
      "execution_count": null,
      "outputs": [
        {
          "output_type": "stream",
          "name": "stdout",
          "text": [
            "📡 Public URL: https://3151-34-83-44-99.ngrok-free.app\n"
          ]
        }
      ]
    },
    {
      "cell_type": "code",
      "source": [
        "import json\n",
        "\n",
        "# Gắn url in ra ở bên trên\n",
        "url = \"https://3151-34-83-44-99.ngrok-free.app/analyze\"\n",
        "data = {\n",
        "    \"text\": \"Sản phẩm tốt\"\n",
        "}\n",
        "response = requests.post(url, json=data)\n",
        "print(response.json())"
      ],
      "metadata": {
        "colab": {
          "base_uri": "https://localhost:8080/"
        },
        "id": "wsEGw7SVuk6Y",
        "outputId": "468b5cd6-9da3-461c-cad5-0a2a2cd3f164"
      },
      "execution_count": null,
      "outputs": [
        {
          "output_type": "stream",
          "name": "stderr",
          "text": [
            "INFO:werkzeug:127.0.0.1 - - [15/Jun/2025 08:37:35] \"POST /analyze HTTP/1.1\" 200 -\n"
          ]
        },
        {
          "output_type": "stream",
          "name": "stdout",
          "text": [
            "{'confidence': 0.9931, 'sentiment': 'tích cực'}\n"
          ]
        }
      ]
    }
  ]
}